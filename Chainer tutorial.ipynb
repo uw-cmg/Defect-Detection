{
 "cells": [
  {
   "cell_type": "code",
   "execution_count": 15,
   "metadata": {},
   "outputs": [
    {
     "name": "stdout",
     "output_type": "stream",
     "text": [
      "/home/wei/anaconda3/envs/chainercv/bin/python\r\n"
     ]
    }
   ],
   "source": [
    "!which python"
   ]
  },
  {
   "cell_type": "code",
   "execution_count": 1,
   "metadata": {},
   "outputs": [],
   "source": [
    "import numpy as np\n",
    "import chainer\n",
    "from chainer import cuda, Function, gradient_check, report, training, utils, Variable\n",
    "from chainer import datasets, iterators, optimizers, serializers\n",
    "from chainer import Link, Chain, ChainList\n",
    "import chainer.functions as F\n",
    "import chainer.links as L\n",
    "from chainer.training import extensions"
   ]
  },
  {
   "cell_type": "code",
   "execution_count": 2,
   "metadata": {},
   "outputs": [],
   "source": [
    "?chainer.cuda.get_device_from_id"
   ]
  },
  {
   "cell_type": "code",
   "execution_count": 40,
   "metadata": {},
   "outputs": [],
   "source": [
    "x_data = np.array([5], dtype=np.float32)"
   ]
  },
  {
   "cell_type": "code",
   "execution_count": 41,
   "metadata": {},
   "outputs": [],
   "source": [
    "x = Variable(x_data)"
   ]
  },
  {
   "cell_type": "code",
   "execution_count": 42,
   "metadata": {},
   "outputs": [
    {
     "data": {
      "text/plain": [
       "variable([5.])"
      ]
     },
     "execution_count": 42,
     "metadata": {},
     "output_type": "execute_result"
    }
   ],
   "source": [
    "x"
   ]
  },
  {
   "cell_type": "code",
   "execution_count": 43,
   "metadata": {},
   "outputs": [],
   "source": [
    " y = x**2 - 2 * x + 1"
   ]
  },
  {
   "cell_type": "code",
   "execution_count": 24,
   "metadata": {},
   "outputs": [
    {
     "data": {
      "text/plain": [
       "variable([16.])"
      ]
     },
     "execution_count": 24,
     "metadata": {},
     "output_type": "execute_result"
    }
   ],
   "source": [
    "y"
   ]
  },
  {
   "cell_type": "code",
   "execution_count": 25,
   "metadata": {},
   "outputs": [
    {
     "data": {
      "text/plain": [
       "array([16.], dtype=float32)"
      ]
     },
     "execution_count": 25,
     "metadata": {},
     "output_type": "execute_result"
    }
   ],
   "source": [
    "y.data"
   ]
  },
  {
   "cell_type": "code",
   "execution_count": 26,
   "metadata": {},
   "outputs": [
    {
     "data": {
      "text/plain": [
       "array([5.], dtype=float32)"
      ]
     },
     "execution_count": 26,
     "metadata": {},
     "output_type": "execute_result"
    }
   ],
   "source": [
    "x.data"
   ]
  },
  {
   "cell_type": "code",
   "execution_count": 27,
   "metadata": {},
   "outputs": [],
   "source": [
    "y.backward()"
   ]
  },
  {
   "cell_type": "code",
   "execution_count": 28,
   "metadata": {},
   "outputs": [
    {
     "data": {
      "text/plain": [
       "array([8.], dtype=float32)"
      ]
     },
     "execution_count": 28,
     "metadata": {},
     "output_type": "execute_result"
    }
   ],
   "source": [
    "x.grad"
   ]
  },
  {
   "cell_type": "code",
   "execution_count": 47,
   "metadata": {},
   "outputs": [
    {
     "data": {
      "text/plain": [
       "variable([5.])"
      ]
     },
     "execution_count": 47,
     "metadata": {},
     "output_type": "execute_result"
    }
   ],
   "source": [
    "x"
   ]
  },
  {
   "cell_type": "code",
   "execution_count": 13,
   "metadata": {},
   "outputs": [
    {
     "data": {
      "text/plain": [
       "array([-1.], dtype=float32)"
      ]
     },
     "execution_count": 13,
     "metadata": {},
     "output_type": "execute_result"
    }
   ],
   "source": [
    "z = 2*x\n",
    "y = x**2 - z + 1\n",
    "y.backward(retain_grad=True)\n",
    "z.grad"
   ]
  },
  {
   "cell_type": "code",
   "execution_count": 14,
   "metadata": {},
   "outputs": [
    {
     "data": {
      "text/plain": [
       "array([16.], dtype=float32)"
      ]
     },
     "execution_count": 14,
     "metadata": {},
     "output_type": "execute_result"
    }
   ],
   "source": [
    "x.grad"
   ]
  },
  {
   "cell_type": "code",
   "execution_count": 63,
   "metadata": {},
   "outputs": [
    {
     "data": {
      "text/plain": [
       "array([[ 0.,  2.,  4.],\n",
       "       [ 6.,  8., 10.]], dtype=float32)"
      ]
     },
     "execution_count": 63,
     "metadata": {},
     "output_type": "execute_result"
    }
   ],
   "source": [
    "x = Variable(np.array([[1, 2, 3], [4, 5, 6]], dtype=np.float32))\n",
    "y = x**2 - 2*x + 1\n",
    "y.grad = np.ones((2,3), dtype=np.float32)\n",
    "y.backward()\n",
    "x.grad"
   ]
  },
  {
   "cell_type": "code",
   "execution_count": 57,
   "metadata": {},
   "outputs": [],
   "source": [
    "f = L.Linear(3, 2)"
   ]
  },
  {
   "cell_type": "code",
   "execution_count": 58,
   "metadata": {},
   "outputs": [
    {
     "data": {
      "text/plain": [
       "array([[-0.57954234,  0.68946636,  0.3200392 ],\n",
       "       [ 0.794923  , -0.8238686 , -0.02581505]], dtype=float32)"
      ]
     },
     "execution_count": 58,
     "metadata": {},
     "output_type": "execute_result"
    }
   ],
   "source": [
    "f.W.data"
   ]
  },
  {
   "cell_type": "code",
   "execution_count": 59,
   "metadata": {},
   "outputs": [
    {
     "data": {
      "text/plain": [
       "array([0., 0.], dtype=float32)"
      ]
     },
     "execution_count": 59,
     "metadata": {},
     "output_type": "execute_result"
    }
   ],
   "source": [
    "f.b.data"
   ]
  },
  {
   "cell_type": "code",
   "execution_count": 67,
   "metadata": {},
   "outputs": [
    {
     "data": {
      "text/plain": [
       "array([[ 1.759508 , -0.9302593],\n",
       "       [ 3.049398 , -1.0945411]], dtype=float32)"
      ]
     },
     "execution_count": 67,
     "metadata": {},
     "output_type": "execute_result"
    }
   ],
   "source": [
    "x = Variable(np.array([[1, 2, 3], [4, 5, 6]], dtype=np.float32))\n",
    "y = f(x)\n",
    "y.data"
   ]
  },
  {
   "cell_type": "code",
   "execution_count": 68,
   "metadata": {},
   "outputs": [],
   "source": [
    "f.cleargrads()"
   ]
  },
  {
   "cell_type": "code",
   "execution_count": 69,
   "metadata": {},
   "outputs": [
    {
     "data": {
      "text/plain": [
       "array([[5., 7., 9.],\n",
       "       [5., 7., 9.]], dtype=float32)"
      ]
     },
     "execution_count": 69,
     "metadata": {},
     "output_type": "execute_result"
    }
   ],
   "source": [
    "y.grad = np.ones((2, 2), dtype=np.float32)\n",
    "y.backward()\n",
    "f.W.grad"
   ]
  },
  {
   "cell_type": "markdown",
   "metadata": {},
   "source": [
    "Gradient is cummulative by the number of input"
   ]
  },
  {
   "cell_type": "code",
   "execution_count": 70,
   "metadata": {},
   "outputs": [
    {
     "data": {
      "text/plain": [
       "array([2., 2.], dtype=float32)"
      ]
     },
     "execution_count": 70,
     "metadata": {},
     "output_type": "execute_result"
    }
   ],
   "source": [
    "f.b.grad"
   ]
  },
  {
   "cell_type": "code",
   "execution_count": 71,
   "metadata": {},
   "outputs": [
    {
     "data": {
      "text/plain": [
       "array([[1., 1.],\n",
       "       [1., 1.]], dtype=float32)"
      ]
     },
     "execution_count": 71,
     "metadata": {},
     "output_type": "execute_result"
    }
   ],
   "source": [
    "y.grad"
   ]
  },
  {
   "cell_type": "code",
   "execution_count": 72,
   "metadata": {},
   "outputs": [],
   "source": [
    "l1 = L.Linear(4, 3)\n",
    "l2 = L.Linear(3, 2)\n",
    "def my_forward(x):\n",
    "    h = l1(x)\n",
    "    return l2(h)"
   ]
  },
  {
   "cell_type": "code",
   "execution_count": 73,
   "metadata": {},
   "outputs": [],
   "source": [
    "x = Variable(np.array([[1, 2, 3, 4], [4, 5, 6, 6]], dtype=np.float32))"
   ]
  },
  {
   "cell_type": "code",
   "execution_count": 74,
   "metadata": {},
   "outputs": [
    {
     "data": {
      "text/plain": [
       "variable([[-0.37159705,  2.8304615 ],\n",
       "          [-0.12051916,  6.6296334 ]])"
      ]
     },
     "execution_count": 74,
     "metadata": {},
     "output_type": "execute_result"
    }
   ],
   "source": [
    "y = my_forward(x)\n",
    "y"
   ]
  },
  {
   "cell_type": "code",
   "execution_count": 75,
   "metadata": {},
   "outputs": [],
   "source": [
    "class MyProc(object):\n",
    "    def __init__(self):\n",
    "        self.l1 = L.Linear(4, 3)\n",
    "        self.l2 = L.Linear(3, 2)\n",
    "    def forward(self, x):\n",
    "        h = self.l1(x)\n",
    "        return self.l2(h)"
   ]
  },
  {
   "cell_type": "code",
   "execution_count": 76,
   "metadata": {},
   "outputs": [],
   "source": [
    "class MyChain(Chain):\n",
    "    def __init__(self):\n",
    "        super(MyChain, self).__init__()\n",
    "        with self.init_scope():\n",
    "            self.l1 = L.Linear(4, 3)\n",
    "            self.l2 = L.Linear(3, 2)\n",
    "    def __call__(self, x):\n",
    "        h = self.l1(x)\n",
    "        return self.l2(h)"
   ]
  },
  {
   "cell_type": "code",
   "execution_count": 90,
   "metadata": {},
   "outputs": [],
   "source": [
    "model = MyChain()\n",
    "optimizer = optimizers.SGD()\n",
    "optimizer.setup(model)"
   ]
  },
  {
   "cell_type": "code",
   "execution_count": 91,
   "metadata": {},
   "outputs": [],
   "source": [
    "optimizer.add_hook(chainer.optimizer.WeightDecay(0.0005))"
   ]
  },
  {
   "cell_type": "code",
   "execution_count": 92,
   "metadata": {},
   "outputs": [],
   "source": [
    "x = np.random.uniform(-1, 1, (2, 4)).astype('f')\n",
    "model.cleargrads()\n",
    "loss = F.sum(model(chainer.Variable(x)))\n",
    "loss.backward()\n",
    "optimizer.update()"
   ]
  },
  {
   "cell_type": "code",
   "execution_count": 94,
   "metadata": {},
   "outputs": [],
   "source": [
    "def lossfun(arg1, arg2):\n",
    "    # calculate loss\n",
    "    loss = F.sum(model(arg1 - arg2))\n",
    "    return loss\n",
    "arg1 = np.random.uniform(-1, 1, (2, 4)).astype('f')\n",
    "arg2 = np.random.uniform(-1, 1, (2, 4)).astype('f')\n",
    "optimizer.update(lossfun, chainer.Variable(arg1), chainer.Variable(arg2))\n"
   ]
  },
  {
   "cell_type": "code",
   "execution_count": 95,
   "metadata": {},
   "outputs": [],
   "source": [
    "serializers.save_npz('my.model', model)"
   ]
  },
  {
   "cell_type": "code",
   "execution_count": 96,
   "metadata": {},
   "outputs": [],
   "source": [
    "serializers.load_npz('my.model', model)"
   ]
  },
  {
   "cell_type": "markdown",
   "metadata": {},
   "source": [
    "# MNIST example"
   ]
  },
  {
   "cell_type": "code",
   "execution_count": 2,
   "metadata": {},
   "outputs": [],
   "source": [
    "train, test = datasets.get_mnist()"
   ]
  },
  {
   "cell_type": "code",
   "execution_count": 3,
   "metadata": {},
   "outputs": [],
   "source": [
    "train_iter = iterators.SerialIterator(train, batch_size=100, shuffle=True)\n",
    "test_iter = iterators.SerialIterator(test, batch_size=100, repeat=False, shuffle=False)\n"
   ]
  },
  {
   "cell_type": "code",
   "execution_count": 4,
   "metadata": {},
   "outputs": [],
   "source": [
    "class MLP(Chain):\n",
    "    def __init__(self, n_units, n_out):\n",
    "        super(MLP, self).__init__()\n",
    "        with self.init_scope():\n",
    "            # the size of the inputs to each layer will be inferred\n",
    "            self.l1 = L.Linear(None, n_units)  # n_in -> n_units\n",
    "            self.l2 = L.Linear(None, n_units)  # n_units -> n_units\n",
    "            self.l3 = L.Linear(None, n_out)    # n_units -> n_out\n",
    "    def __call__(self, x):\n",
    "        h1 = F.relu(self.l1(x))\n",
    "        h2 = F.relu(self.l2(h1))\n",
    "        y = self.l3(h2)\n",
    "        return y"
   ]
  },
  {
   "cell_type": "code",
   "execution_count": 5,
   "metadata": {},
   "outputs": [],
   "source": [
    "class Classifier(Chain):\n",
    "    def __init__(self, predictor):\n",
    "        super(Classifier, self).__init__()\n",
    "        with self.init_scope():\n",
    "            self.predictor = predictor\n",
    "    def __call__(self, x, t):\n",
    "        y = self.predictor(x)\n",
    "        loss = F.softmax_cross_entropy(y, t)\n",
    "        accuracy = F.accuracy(y, t)\n",
    "        report({'loss': loss, 'accuracy': accuracy}, self)\n",
    "        return loss"
   ]
  },
  {
   "cell_type": "code",
   "execution_count": 6,
   "metadata": {},
   "outputs": [],
   "source": [
    "chainer.cuda.get_device_from_id(0).use()"
   ]
  },
  {
   "cell_type": "code",
   "execution_count": 7,
   "metadata": {},
   "outputs": [],
   "source": [
    "model = L.Classifier(MLP(100, 10))  # the input size, 784, is inferred\n",
    "model.to_gpu()\n",
    "optimizer = optimizers.SGD()\n",
    "optimizer.setup(model)"
   ]
  },
  {
   "cell_type": "code",
   "execution_count": 8,
   "metadata": {},
   "outputs": [],
   "source": [
    "updater = training.StandardUpdater(train_iter, optimizer, device=0)\n",
    "trainer = training.Trainer(updater, (20, 'epoch'), out='result')"
   ]
  },
  {
   "cell_type": "code",
   "execution_count": 9,
   "metadata": {},
   "outputs": [],
   "source": [
    "trainer.extend(extensions.Evaluator(test_iter, model, device=0))\n",
    "trainer.extend(extensions.LogReport())\n",
    "trainer.extend(extensions.PrintReport(['epoch', 'main/accuracy', 'validation/main/accuracy']))\n",
    "trainer.extend(extensions.ProgressBar())"
   ]
  },
  {
   "cell_type": "code",
   "execution_count": 10,
   "metadata": {
    "collapsed": true
   },
   "outputs": [
    {
     "name": "stdout",
     "output_type": "stream",
     "text": [
      "epoch       main/accuracy  validation/main/accuracy\n",
      "\u001b[J     total [..................................................]  0.83%\n",
      "this epoch [########..........................................] 16.67%\n",
      "       100 iter, 0 epoch / 20 epochs\n",
      "       inf iters/sec. Estimated time to finish: 0:00:00.\n",
      "\u001b[4A\u001b[J     total [..................................................]  1.67%\n",
      "this epoch [################..................................] 33.33%\n",
      "       200 iter, 0 epoch / 20 epochs\n",
      "    401.23 iters/sec. Estimated time to finish: 0:00:29.409495.\n",
      "\u001b[4A\u001b[J     total [#.................................................]  2.50%\n",
      "this epoch [#########################.........................] 50.00%\n",
      "       300 iter, 0 epoch / 20 epochs\n",
      "    398.15 iters/sec. Estimated time to finish: 0:00:29.385862.\n",
      "\u001b[4A\u001b[J     total [#.................................................]  3.33%\n",
      "this epoch [#################################.................] 66.67%\n",
      "       400 iter, 0 epoch / 20 epochs\n",
      "    398.33 iters/sec. Estimated time to finish: 0:00:29.121237.\n",
      "\u001b[4A\u001b[J     total [##................................................]  4.17%\n",
      "this epoch [#########################################.........] 83.33%\n",
      "       500 iter, 0 epoch / 20 epochs\n",
      "    395.37 iters/sec. Estimated time to finish: 0:00:29.086489.\n",
      "\u001b[4A\u001b[J1           0.679183       0.8543                    \n",
      "\u001b[J     total [##................................................]  5.00%\n",
      "this epoch [..................................................]  0.00%\n",
      "       600 iter, 1 epoch / 20 epochs\n",
      "    343.73 iters/sec. Estimated time to finish: 0:00:33.165540.\n",
      "\u001b[4A\u001b[J     total [##................................................]  5.83%\n",
      "this epoch [########..........................................] 16.67%\n",
      "       700 iter, 1 epoch / 20 epochs\n",
      "    351.78 iters/sec. Estimated time to finish: 0:00:32.122147.\n",
      "\u001b[4A\u001b[J     total [###...............................................]  6.67%\n",
      "this epoch [################..................................] 33.33%\n",
      "       800 iter, 1 epoch / 20 epochs\n",
      "     357.7 iters/sec. Estimated time to finish: 0:00:31.311375.\n",
      "\u001b[4A\u001b[J     total [###...............................................]  7.50%\n",
      "this epoch [#########################.........................] 50.00%\n",
      "       900 iter, 1 epoch / 20 epochs\n",
      "    362.33 iters/sec. Estimated time to finish: 0:00:30.634759.\n",
      "\u001b[4A\u001b[J     total [####..............................................]  8.33%\n",
      "this epoch [#################################.................] 66.67%\n",
      "      1000 iter, 1 epoch / 20 epochs\n",
      "    365.53 iters/sec. Estimated time to finish: 0:00:30.092899.\n",
      "\u001b[4A\u001b[J     total [####..............................................]  9.17%\n",
      "this epoch [#########################################.........] 83.33%\n",
      "      1100 iter, 1 epoch / 20 epochs\n",
      "    368.34 iters/sec. Estimated time to finish: 0:00:29.592392.\n",
      "\u001b[4A\u001b[J2           0.8725         0.8901                    \n",
      "\u001b[J     total [#####.............................................] 10.00%\n",
      "this epoch [..................................................]  0.00%\n",
      "      1200 iter, 2 epoch / 20 epochs\n",
      "    354.75 iters/sec. Estimated time to finish: 0:00:30.443764.\n",
      "\u001b[4A\u001b[J     total [#####.............................................] 10.83%\n",
      "this epoch [########..........................................] 16.67%\n",
      "      1300 iter, 2 epoch / 20 epochs\n",
      "    357.62 iters/sec. Estimated time to finish: 0:00:29.919707.\n",
      "\u001b[4A\u001b[J     total [#####.............................................] 11.67%\n",
      "this epoch [################..................................] 33.33%\n",
      "      1400 iter, 2 epoch / 20 epochs\n",
      "    360.36 iters/sec. Estimated time to finish: 0:00:29.415417.\n",
      "\u001b[4A\u001b[J     total [######............................................] 12.50%\n",
      "this epoch [#########################.........................] 50.00%\n",
      "      1500 iter, 2 epoch / 20 epochs\n",
      "    362.93 iters/sec. Estimated time to finish: 0:00:28.931006.\n",
      "\u001b[4A\u001b[J     total [######............................................] 13.33%\n",
      "this epoch [#################################.................] 66.67%\n",
      "      1600 iter, 2 epoch / 20 epochs\n",
      "    364.93 iters/sec. Estimated time to finish: 0:00:28.498710.\n",
      "\u001b[4A\u001b[J     total [#######...........................................] 14.17%\n",
      "this epoch [#########################################.........] 83.33%\n",
      "      1700 iter, 2 epoch / 20 epochs\n",
      "    366.61 iters/sec. Estimated time to finish: 0:00:28.095379.\n",
      "\u001b[4A\u001b[J3           0.895701       0.9067                    \n",
      "\u001b[J     total [#######...........................................] 15.00%\n",
      "this epoch [..................................................]  0.00%\n",
      "      1800 iter, 3 epoch / 20 epochs\n",
      "    358.02 iters/sec. Estimated time to finish: 0:00:28.490376.\n",
      "\u001b[4A\u001b[J     total [#######...........................................] 15.83%\n",
      "this epoch [########..........................................] 16.67%\n",
      "      1900 iter, 3 epoch / 20 epochs\n",
      "     359.5 iters/sec. Estimated time to finish: 0:00:28.094186.\n",
      "\u001b[4A\u001b[J     total [########..........................................] 16.67%\n",
      "this epoch [################..................................] 33.33%\n",
      "      2000 iter, 3 epoch / 20 epochs\n",
      "    361.25 iters/sec. Estimated time to finish: 0:00:27.681479.\n",
      "\u001b[4A\u001b[J     total [########..........................................] 17.50%\n",
      "this epoch [#########################.........................] 50.00%\n",
      "      2100 iter, 3 epoch / 20 epochs\n",
      "    362.82 iters/sec. Estimated time to finish: 0:00:27.286239.\n",
      "\u001b[4A\u001b[J     total [#########.........................................] 18.33%\n",
      "this epoch [#################################.................] 66.67%\n",
      "      2200 iter, 3 epoch / 20 epochs\n",
      "    364.36 iters/sec. Estimated time to finish: 0:00:26.896764.\n",
      "\u001b[4A\u001b[J     total [#########.........................................] 19.17%\n",
      "this epoch [#########################################.........] 83.33%\n",
      "      2300 iter, 3 epoch / 20 epochs\n",
      "    365.77 iters/sec. Estimated time to finish: 0:00:26.519390.\n",
      "\u001b[4A\u001b[J4           0.906434       0.9121                    \n",
      "\u001b[J     total [##########........................................] 20.00%\n",
      "this epoch [..................................................]  0.00%\n",
      "      2400 iter, 4 epoch / 20 epochs\n",
      "    359.37 iters/sec. Estimated time to finish: 0:00:26.713264.\n",
      "\u001b[4A\u001b[J     total [##########........................................] 20.83%\n",
      "this epoch [########..........................................] 16.67%\n",
      "      2500 iter, 4 epoch / 20 epochs\n",
      "    360.74 iters/sec. Estimated time to finish: 0:00:26.334434.\n",
      "\u001b[4A\u001b[J     total [##########........................................] 21.67%\n",
      "this epoch [################..................................] 33.33%\n",
      "      2600 iter, 4 epoch / 20 epochs\n",
      "    362.03 iters/sec. Estimated time to finish: 0:00:25.964571.\n",
      "\u001b[4A\u001b[J     total [###########.......................................] 22.50%\n",
      "this epoch [#########################.........................] 50.00%\n",
      "      2700 iter, 4 epoch / 20 epochs\n",
      "    363.27 iters/sec. Estimated time to finish: 0:00:25.600938.\n",
      "\u001b[4A\u001b[J     total [###########.......................................] 23.33%\n",
      "this epoch [#################################.................] 66.67%\n",
      "      2800 iter, 4 epoch / 20 epochs\n",
      "    364.31 iters/sec. Estimated time to finish: 0:00:25.253209.\n",
      "\u001b[4A\u001b[J     total [############......................................] 24.17%\n",
      "this epoch [#########################################.........] 83.33%\n",
      "      2900 iter, 4 epoch / 20 epochs\n",
      "    365.33 iters/sec. Estimated time to finish: 0:00:24.909327.\n",
      "\u001b[4A\u001b[J5           0.912368       0.9188                    \n",
      "\u001b[J     total [############......................................] 25.00%\n",
      "this epoch [..................................................]  0.00%\n",
      "      3000 iter, 5 epoch / 20 epochs\n",
      "    360.14 iters/sec. Estimated time to finish: 0:00:24.990030.\n",
      "\u001b[4A\u001b[J     total [############......................................] 25.83%\n",
      "this epoch [########..........................................] 16.67%\n",
      "      3100 iter, 5 epoch / 20 epochs\n",
      "    361.21 iters/sec. Estimated time to finish: 0:00:24.639350.\n",
      "\u001b[4A\u001b[J     total [#############.....................................] 26.67%\n",
      "this epoch [################..................................] 33.33%\n",
      "      3200 iter, 5 epoch / 20 epochs\n",
      "    362.19 iters/sec. Estimated time to finish: 0:00:24.296835.\n"
     ]
    },
    {
     "name": "stdout",
     "output_type": "stream",
     "text": [
      "\u001b[4A\u001b[J     total [#############.....................................] 27.50%\n",
      "this epoch [#########################.........................] 50.00%\n",
      "      3300 iter, 5 epoch / 20 epochs\n",
      "    363.14 iters/sec. Estimated time to finish: 0:00:23.957525.\n",
      "\u001b[4A\u001b[J     total [##############....................................] 28.33%\n",
      "this epoch [#################################.................] 66.67%\n",
      "      3400 iter, 5 epoch / 20 epochs\n",
      "     363.4 iters/sec. Estimated time to finish: 0:00:23.665319.\n",
      "\u001b[4A\u001b[J     total [##############....................................] 29.17%\n",
      "this epoch [#########################################.........] 83.33%\n",
      "      3500 iter, 5 epoch / 20 epochs\n",
      "    363.18 iters/sec. Estimated time to finish: 0:00:23.404688.\n",
      "\u001b[4A\u001b[J6           0.917167       0.9233                    \n",
      "\u001b[J     total [###############...................................] 30.00%\n",
      "this epoch [..................................................]  0.00%\n",
      "      3600 iter, 6 epoch / 20 epochs\n",
      "    359.11 iters/sec. Estimated time to finish: 0:00:23.391415.\n",
      "\u001b[4A\u001b[J     total [###############...................................] 30.83%\n",
      "this epoch [########..........................................] 16.67%\n",
      "      3700 iter, 6 epoch / 20 epochs\n",
      "    359.24 iters/sec. Estimated time to finish: 0:00:23.104111.\n",
      "\u001b[4A\u001b[J     total [###############...................................] 31.67%\n",
      "this epoch [################..................................] 33.33%\n",
      "      3800 iter, 6 epoch / 20 epochs\n",
      "    360.17 iters/sec. Estimated time to finish: 0:00:22.767204.\n",
      "\u001b[4A\u001b[J     total [################..................................] 32.50%\n",
      "this epoch [#########################.........................] 50.00%\n",
      "      3900 iter, 6 epoch / 20 epochs\n",
      "    361.01 iters/sec. Estimated time to finish: 0:00:22.436773.\n",
      "\u001b[4A\u001b[J     total [################..................................] 33.33%\n",
      "this epoch [#################################.................] 66.67%\n",
      "      4000 iter, 6 epoch / 20 epochs\n",
      "    361.77 iters/sec. Estimated time to finish: 0:00:22.113204.\n",
      "\u001b[4A\u001b[J     total [#################.................................] 34.17%\n",
      "this epoch [#########################################.........] 83.33%\n",
      "      4100 iter, 6 epoch / 20 epochs\n",
      "    362.53 iters/sec. Estimated time to finish: 0:00:21.791139.\n",
      "\u001b[4A\u001b[J7           0.921884       0.9255                    \n",
      "\u001b[J     total [#################.................................] 35.00%\n",
      "this epoch [..................................................]  0.00%\n",
      "      4200 iter, 7 epoch / 20 epochs\n",
      "    358.98 iters/sec. Estimated time to finish: 0:00:21.728352.\n",
      "\u001b[4A\u001b[J     total [#################.................................] 35.83%\n",
      "this epoch [########..........................................] 16.67%\n",
      "      4300 iter, 7 epoch / 20 epochs\n",
      "    359.84 iters/sec. Estimated time to finish: 0:00:21.398681.\n",
      "\u001b[4A\u001b[J     total [##################................................] 36.67%\n",
      "this epoch [################..................................] 33.33%\n",
      "      4400 iter, 7 epoch / 20 epochs\n",
      "    360.62 iters/sec. Estimated time to finish: 0:00:21.074532.\n",
      "\u001b[4A\u001b[J     total [##################................................] 37.50%\n",
      "this epoch [#########################.........................] 50.00%\n",
      "      4500 iter, 7 epoch / 20 epochs\n",
      "    361.44 iters/sec. Estimated time to finish: 0:00:20.750577.\n",
      "\u001b[4A\u001b[J     total [###################...............................] 38.33%\n",
      "this epoch [#################################.................] 66.67%\n",
      "      4600 iter, 7 epoch / 20 epochs\n",
      "     362.2 iters/sec. Estimated time to finish: 0:00:20.430421.\n",
      "\u001b[4A\u001b[J     total [###################...............................] 39.17%\n",
      "this epoch [#########################################.........] 83.33%\n",
      "      4700 iter, 7 epoch / 20 epochs\n",
      "    362.88 iters/sec. Estimated time to finish: 0:00:20.116715.\n",
      "\u001b[4A\u001b[J8           0.925651       0.9311                    \n",
      "\u001b[J     total [####################..............................] 40.00%\n",
      "this epoch [..................................................]  0.00%\n",
      "      4800 iter, 8 epoch / 20 epochs\n",
      "    359.84 iters/sec. Estimated time to finish: 0:00:20.008836.\n",
      "\u001b[4A\u001b[J     total [####################..............................] 40.83%\n",
      "this epoch [########..........................................] 16.67%\n",
      "      4900 iter, 8 epoch / 20 epochs\n",
      "    360.57 iters/sec. Estimated time to finish: 0:00:19.691202.\n",
      "\u001b[4A\u001b[J     total [####################..............................] 41.67%\n",
      "this epoch [################..................................] 33.33%\n",
      "      5000 iter, 8 epoch / 20 epochs\n",
      "    361.33 iters/sec. Estimated time to finish: 0:00:19.372688.\n",
      "\u001b[4A\u001b[J     total [#####################.............................] 42.50%\n",
      "this epoch [#########################.........................] 50.00%\n",
      "      5100 iter, 8 epoch / 20 epochs\n",
      "    362.07 iters/sec. Estimated time to finish: 0:00:19.057183.\n",
      "\u001b[4A\u001b[J     total [#####################.............................] 43.33%\n",
      "this epoch [#################################.................] 66.67%\n",
      "      5200 iter, 8 epoch / 20 epochs\n",
      "    362.74 iters/sec. Estimated time to finish: 0:00:18.745953.\n",
      "\u001b[4A\u001b[J     total [######################............................] 44.17%\n",
      "this epoch [#########################################.........] 83.33%\n",
      "      5300 iter, 8 epoch / 20 epochs\n",
      "    363.37 iters/sec. Estimated time to finish: 0:00:18.438495.\n",
      "\u001b[4A\u001b[J9           0.929018       0.9341                    \n",
      "\u001b[J     total [######################............................] 45.00%\n",
      "this epoch [..................................................]  0.00%\n",
      "      5400 iter, 9 epoch / 20 epochs\n",
      "    360.69 iters/sec. Estimated time to finish: 0:00:18.298196.\n",
      "\u001b[4A\u001b[J     total [######################............................] 45.83%\n",
      "this epoch [########..........................................] 16.67%\n",
      "      5500 iter, 9 epoch / 20 epochs\n",
      "    361.41 iters/sec. Estimated time to finish: 0:00:17.985056.\n",
      "\u001b[4A\u001b[J     total [#######################...........................] 46.67%\n",
      "this epoch [################..................................] 33.33%\n",
      "      5600 iter, 9 epoch / 20 epochs\n",
      "    362.14 iters/sec. Estimated time to finish: 0:00:17.672716.\n",
      "\u001b[4A\u001b[J     total [#######################...........................] 47.50%\n",
      "this epoch [#########################.........................] 50.00%\n",
      "      5700 iter, 9 epoch / 20 epochs\n",
      "    362.81 iters/sec. Estimated time to finish: 0:00:17.364367.\n",
      "\u001b[4A\u001b[J     total [########################..........................] 48.33%\n",
      "this epoch [#################################.................] 66.67%\n",
      "      5800 iter, 9 epoch / 20 epochs\n",
      "    363.46 iters/sec. Estimated time to finish: 0:00:17.058389.\n",
      "\u001b[4A\u001b[J     total [########################..........................] 49.17%\n",
      "this epoch [#########################################.........] 83.33%\n",
      "      5900 iter, 9 epoch / 20 epochs\n",
      "     364.1 iters/sec. Estimated time to finish: 0:00:16.753414.\n",
      "\u001b[4A\u001b[J10          0.932151       0.9337                    \n",
      "\u001b[J     total [#########################.........................] 50.00%\n",
      "this epoch [..................................................]  0.00%\n",
      "      6000 iter, 10 epoch / 20 epochs\n",
      "    361.79 iters/sec. Estimated time to finish: 0:00:16.584421.\n",
      "\u001b[4A\u001b[J     total [#########################.........................] 50.83%\n",
      "this epoch [########..........................................] 16.67%\n",
      "      6100 iter, 10 epoch / 20 epochs\n",
      "     362.4 iters/sec. Estimated time to finish: 0:00:16.280561.\n",
      "\u001b[4A\u001b[J     total [#########################.........................] 51.67%\n",
      "this epoch [################..................................] 33.33%\n",
      "      6200 iter, 10 epoch / 20 epochs\n",
      "    362.96 iters/sec. Estimated time to finish: 0:00:15.979607.\n",
      "\u001b[4A\u001b[J     total [##########################........................] 52.50%\n",
      "this epoch [#########################.........................] 50.00%\n",
      "      6300 iter, 10 epoch / 20 epochs\n",
      "    363.55 iters/sec. Estimated time to finish: 0:00:15.678856.\n",
      "\u001b[4A\u001b[J     total [##########################........................] 53.33%\n",
      "this epoch [#################################.................] 66.67%\n",
      "      6400 iter, 10 epoch / 20 epochs\n",
      "    364.09 iters/sec. Estimated time to finish: 0:00:15.380893.\n"
     ]
    },
    {
     "name": "stdout",
     "output_type": "stream",
     "text": [
      "\u001b[4A\u001b[J     total [###########################.......................] 54.17%\n",
      "this epoch [#########################################.........] 83.33%\n",
      "      6500 iter, 10 epoch / 20 epochs\n",
      "    364.66 iters/sec. Estimated time to finish: 0:00:15.082336.\n",
      "\u001b[4A\u001b[J11          0.934334       0.9385                    \n",
      "\u001b[J     total [###########################.......................] 55.00%\n",
      "this epoch [..................................................]  0.00%\n",
      "      6600 iter, 11 epoch / 20 epochs\n",
      "    362.48 iters/sec. Estimated time to finish: 0:00:14.897572.\n",
      "\u001b[4A\u001b[J     total [###########################.......................] 55.83%\n",
      "this epoch [########..........................................] 16.67%\n",
      "      6700 iter, 11 epoch / 20 epochs\n",
      "    363.05 iters/sec. Estimated time to finish: 0:00:14.598683.\n",
      "\u001b[4A\u001b[J     total [############################......................] 56.67%\n",
      "this epoch [################..................................] 33.33%\n",
      "      6800 iter, 11 epoch / 20 epochs\n",
      "     363.6 iters/sec. Estimated time to finish: 0:00:14.301493.\n",
      "\u001b[4A\u001b[J     total [############################......................] 57.50%\n",
      "this epoch [#########################.........................] 50.00%\n",
      "      6900 iter, 11 epoch / 20 epochs\n",
      "    363.74 iters/sec. Estimated time to finish: 0:00:14.021095.\n",
      "\u001b[4A\u001b[J     total [#############################.....................] 58.33%\n",
      "this epoch [#################################.................] 66.67%\n",
      "      7000 iter, 11 epoch / 20 epochs\n",
      "    364.28 iters/sec. Estimated time to finish: 0:00:13.725560.\n",
      "\u001b[4A\u001b[J     total [#############################.....................] 59.17%\n",
      "this epoch [#########################################.........] 83.33%\n",
      "      7100 iter, 11 epoch / 20 epochs\n",
      "     364.8 iters/sec. Estimated time to finish: 0:00:13.432116.\n",
      "\u001b[4A\u001b[J12          0.937834       0.939                     \n",
      "\u001b[J     total [##############################....................] 60.00%\n",
      "this epoch [..................................................]  0.00%\n",
      "      7200 iter, 12 epoch / 20 epochs\n",
      "    362.82 iters/sec. Estimated time to finish: 0:00:13.229585.\n",
      "\u001b[4A\u001b[J     total [##############################....................] 60.83%\n",
      "this epoch [########..........................................] 16.67%\n",
      "      7300 iter, 12 epoch / 20 epochs\n",
      "    363.24 iters/sec. Estimated time to finish: 0:00:12.939126.\n",
      "\u001b[4A\u001b[J     total [##############################....................] 61.67%\n",
      "this epoch [################..................................] 33.33%\n",
      "      7400 iter, 12 epoch / 20 epochs\n",
      "    363.63 iters/sec. Estimated time to finish: 0:00:12.650055.\n",
      "\u001b[4A\u001b[J     total [###############################...................] 62.50%\n",
      "this epoch [#########################.........................] 50.00%\n",
      "      7500 iter, 12 epoch / 20 epochs\n",
      "    364.01 iters/sec. Estimated time to finish: 0:00:12.362433.\n",
      "\u001b[4A\u001b[J     total [###############################...................] 63.33%\n",
      "this epoch [#################################.................] 66.67%\n",
      "      7600 iter, 12 epoch / 20 epochs\n",
      "    364.42 iters/sec. Estimated time to finish: 0:00:12.073890.\n",
      "\u001b[4A\u001b[J     total [################################..................] 64.17%\n",
      "this epoch [#########################################.........] 83.33%\n",
      "      7700 iter, 12 epoch / 20 epochs\n",
      "     364.8 iters/sec. Estimated time to finish: 0:00:11.787214.\n",
      "\u001b[4A\u001b[J13          0.940534       0.9413                    \n",
      "\u001b[J     total [################################..................] 65.00%\n",
      "this epoch [..................................................]  0.00%\n",
      "      7800 iter, 13 epoch / 20 epochs\n",
      "    362.92 iters/sec. Estimated time to finish: 0:00:11.572805.\n",
      "\u001b[4A\u001b[J     total [################################..................] 65.83%\n",
      "this epoch [########..........................................] 16.67%\n",
      "      7900 iter, 13 epoch / 20 epochs\n",
      "    363.29 iters/sec. Estimated time to finish: 0:00:11.285734.\n",
      "\u001b[4A\u001b[J     total [#################################.................] 66.67%\n",
      "this epoch [################..................................] 33.33%\n",
      "      8000 iter, 13 epoch / 20 epochs\n",
      "    363.71 iters/sec. Estimated time to finish: 0:00:10.997771.\n",
      "\u001b[4A\u001b[J     total [#################################.................] 67.50%\n",
      "this epoch [#########################.........................] 50.00%\n",
      "      8100 iter, 13 epoch / 20 epochs\n",
      "    364.09 iters/sec. Estimated time to finish: 0:00:10.711644.\n",
      "\u001b[4A\u001b[J     total [##################################................] 68.33%\n",
      "this epoch [#################################.................] 66.67%\n",
      "      8200 iter, 13 epoch / 20 epochs\n",
      "     364.5 iters/sec. Estimated time to finish: 0:00:10.425322.\n",
      "\u001b[4A\u001b[J     total [##################################................] 69.17%\n",
      "this epoch [#########################################.........] 83.33%\n",
      "      8300 iter, 13 epoch / 20 epochs\n",
      "    364.91 iters/sec. Estimated time to finish: 0:00:10.139401.\n",
      "\u001b[4A\u001b[J14          0.942167       0.9437                    \n",
      "\u001b[J     total [###################################...............] 70.00%\n",
      "this epoch [..................................................]  0.00%\n",
      "      8400 iter, 14 epoch / 20 epochs\n",
      "     363.2 iters/sec. Estimated time to finish: 0:00:09.911834.\n",
      "\u001b[4A\u001b[J     total [###################################...............] 70.83%\n",
      "this epoch [########..........................................] 16.67%\n",
      "      8500 iter, 14 epoch / 20 epochs\n",
      "    363.65 iters/sec. Estimated time to finish: 0:00:09.624709.\n",
      "\u001b[4A\u001b[J     total [###################################...............] 71.67%\n",
      "this epoch [################..................................] 33.33%\n",
      "      8600 iter, 14 epoch / 20 epochs\n",
      "    364.07 iters/sec. Estimated time to finish: 0:00:09.338956.\n",
      "\u001b[4A\u001b[J     total [####################################..............] 72.50%\n",
      "this epoch [#########################.........................] 50.00%\n",
      "      8700 iter, 14 epoch / 20 epochs\n",
      "    364.46 iters/sec. Estimated time to finish: 0:00:09.054420.\n",
      "\u001b[4A\u001b[J     total [####################################..............] 73.33%\n",
      "this epoch [#################################.................] 66.67%\n",
      "      8800 iter, 14 epoch / 20 epochs\n",
      "    364.87 iters/sec. Estimated time to finish: 0:00:08.770242.\n",
      "\u001b[4A\u001b[J     total [#####################################.............] 74.17%\n",
      "this epoch [#########################################.........] 83.33%\n",
      "      8900 iter, 14 epoch / 20 epochs\n",
      "    365.27 iters/sec. Estimated time to finish: 0:00:08.486869.\n",
      "\u001b[4A\u001b[J15          0.944851       0.9451                    \n",
      "\u001b[J     total [#####################################.............] 75.00%\n",
      "this epoch [..................................................]  0.00%\n",
      "      9000 iter, 15 epoch / 20 epochs\n",
      "    363.68 iters/sec. Estimated time to finish: 0:00:08.248953.\n",
      "\u001b[4A\u001b[J     total [#####################################.............] 75.83%\n",
      "this epoch [########..........................................] 16.67%\n",
      "      9100 iter, 15 epoch / 20 epochs\n",
      "    364.06 iters/sec. Estimated time to finish: 0:00:07.965701.\n",
      "\u001b[4A\u001b[J     total [######################################............] 76.67%\n",
      "this epoch [################..................................] 33.33%\n",
      "      9200 iter, 15 epoch / 20 epochs\n",
      "    364.44 iters/sec. Estimated time to finish: 0:00:07.683071.\n",
      "\u001b[4A\u001b[J     total [######################################............] 77.50%\n",
      "this epoch [#########################.........................] 50.00%\n",
      "      9300 iter, 15 epoch / 20 epochs\n",
      "    364.77 iters/sec. Estimated time to finish: 0:00:07.401848.\n",
      "\u001b[4A\u001b[J     total [#######################################...........] 78.33%\n",
      "this epoch [#################################.................] 66.67%\n",
      "      9400 iter, 15 epoch / 20 epochs\n",
      "    365.11 iters/sec. Estimated time to finish: 0:00:07.121088.\n",
      "\u001b[4A\u001b[J     total [#######################################...........] 79.17%\n",
      "this epoch [#########################################.........] 83.33%\n",
      "      9500 iter, 15 epoch / 20 epochs\n",
      "    365.43 iters/sec. Estimated time to finish: 0:00:06.841302.\n",
      "\u001b[4A\u001b[J16          0.9462         0.9463                    \n",
      "\u001b[J     total [########################################..........] 80.00%\n",
      "this epoch [..................................................]  0.00%\n",
      "      9600 iter, 16 epoch / 20 epochs\n",
      "    363.89 iters/sec. Estimated time to finish: 0:00:06.595324.\n"
     ]
    },
    {
     "name": "stdout",
     "output_type": "stream",
     "text": [
      "\u001b[4A\u001b[J     total [########################################..........] 80.83%\n",
      "this epoch [########..........................................] 16.67%\n",
      "      9700 iter, 16 epoch / 20 epochs\n",
      "     364.2 iters/sec. Estimated time to finish: 0:00:06.315246.\n",
      "\u001b[4A\u001b[J     total [########################################..........] 81.67%\n",
      "this epoch [################..................................] 33.33%\n",
      "      9800 iter, 16 epoch / 20 epochs\n",
      "    364.47 iters/sec. Estimated time to finish: 0:00:06.036180.\n",
      "\u001b[4A\u001b[J     total [#########################################.........] 82.50%\n",
      "this epoch [#########################.........................] 50.00%\n",
      "      9900 iter, 16 epoch / 20 epochs\n",
      "    364.79 iters/sec. Estimated time to finish: 0:00:05.756687.\n",
      "\u001b[4A\u001b[J     total [#########################################.........] 83.33%\n",
      "this epoch [#################################.................] 66.67%\n",
      "     10000 iter, 16 epoch / 20 epochs\n",
      "    365.12 iters/sec. Estimated time to finish: 0:00:05.477626.\n",
      "\u001b[4A\u001b[J     total [##########################################........] 84.17%\n",
      "this epoch [#########################################.........] 83.33%\n",
      "     10100 iter, 16 epoch / 20 epochs\n",
      "    365.42 iters/sec. Estimated time to finish: 0:00:05.199435.\n",
      "\u001b[4A\u001b[J17          0.948735       0.9478                    \n",
      "\u001b[J     total [##########################################........] 85.00%\n",
      "this epoch [..................................................]  0.00%\n",
      "     10200 iter, 17 epoch / 20 epochs\n",
      "    363.37 iters/sec. Estimated time to finish: 0:00:04.953628.\n",
      "\u001b[4A\u001b[J     total [##########################################........] 85.83%\n",
      "this epoch [########..........................................] 16.67%\n",
      "     10300 iter, 17 epoch / 20 epochs\n",
      "     363.4 iters/sec. Estimated time to finish: 0:00:04.677984.\n",
      "\u001b[4A\u001b[J     total [###########################################.......] 86.67%\n",
      "this epoch [################..................................] 33.33%\n",
      "     10400 iter, 17 epoch / 20 epochs\n",
      "     363.4 iters/sec. Estimated time to finish: 0:00:04.402816.\n",
      "\u001b[4A\u001b[J     total [###########################################.......] 87.50%\n",
      "this epoch [#########################.........................] 50.00%\n",
      "     10500 iter, 17 epoch / 20 epochs\n",
      "    363.49 iters/sec. Estimated time to finish: 0:00:04.126679.\n",
      "\u001b[4A\u001b[J     total [############################################......] 88.33%\n",
      "this epoch [#################################.................] 66.67%\n",
      "     10600 iter, 17 epoch / 20 epochs\n",
      "    366.03 iters/sec. Estimated time to finish: 0:00:03.824834.\n",
      "\u001b[4A\u001b[J     total [############################################......] 89.17%\n",
      "this epoch [#########################################.........] 83.33%\n",
      "     10700 iter, 17 epoch / 20 epochs\n",
      "    366.05 iters/sec. Estimated time to finish: 0:00:03.551472.\n",
      "\u001b[4A\u001b[J18          0.950034       0.9501                    \n",
      "\u001b[J     total [#############################################.....] 90.00%\n",
      "this epoch [..................................................]  0.00%\n",
      "     10800 iter, 18 epoch / 20 epochs\n",
      "    364.29 iters/sec. Estimated time to finish: 0:00:03.294099.\n",
      "\u001b[4A\u001b[J     total [#############################################.....] 90.83%\n",
      "this epoch [########..........................................] 16.67%\n",
      "     10900 iter, 18 epoch / 20 epochs\n",
      "     364.3 iters/sec. Estimated time to finish: 0:00:03.019488.\n",
      "\u001b[4A\u001b[J     total [#############################################.....] 91.67%\n",
      "this epoch [################..................................] 33.33%\n",
      "     11000 iter, 18 epoch / 20 epochs\n",
      "    364.37 iters/sec. Estimated time to finish: 0:00:02.744474.\n",
      "\u001b[4A\u001b[J     total [##############################################....] 92.50%\n",
      "this epoch [#########################.........................] 50.00%\n",
      "     11100 iter, 18 epoch / 20 epochs\n",
      "    364.41 iters/sec. Estimated time to finish: 0:00:02.469773.\n",
      "\u001b[4A\u001b[J     total [##############################################....] 93.33%\n",
      "this epoch [#################################.................] 66.67%\n",
      "     11200 iter, 18 epoch / 20 epochs\n",
      "    366.22 iters/sec. Estimated time to finish: 0:00:02.184465.\n",
      "\u001b[4A\u001b[J     total [###############################################...] 94.17%\n",
      "this epoch [#########################################.........] 83.33%\n",
      "     11300 iter, 18 epoch / 20 epochs\n",
      "    366.28 iters/sec. Estimated time to finish: 0:00:01.911131.\n",
      "\u001b[4A\u001b[J19          0.951584       0.9511                    \n",
      "\u001b[J     total [###############################################...] 95.00%\n",
      "this epoch [..................................................]  0.00%\n",
      "     11400 iter, 19 epoch / 20 epochs\n",
      "    364.52 iters/sec. Estimated time to finish: 0:00:01.645979.\n",
      "\u001b[4A\u001b[J     total [###############################################...] 95.83%\n",
      "this epoch [########..........................................] 16.67%\n",
      "     11500 iter, 19 epoch / 20 epochs\n",
      "    364.39 iters/sec. Estimated time to finish: 0:00:01.372150.\n",
      "\u001b[4A\u001b[J     total [################################################..] 96.67%\n",
      "this epoch [################..................................] 33.33%\n",
      "     11600 iter, 19 epoch / 20 epochs\n",
      "     364.4 iters/sec. Estimated time to finish: 0:00:01.097685.\n",
      "\u001b[4A\u001b[J     total [################################################..] 97.50%\n",
      "this epoch [#########################.........................] 50.00%\n",
      "     11700 iter, 19 epoch / 20 epochs\n",
      "    364.42 iters/sec. Estimated time to finish: 0:00:00.823234.\n",
      "\u001b[4A\u001b[J     total [#################################################.] 98.33%\n",
      "this epoch [#################################.................] 66.67%\n",
      "     11800 iter, 19 epoch / 20 epochs\n",
      "    366.17 iters/sec. Estimated time to finish: 0:00:00.546198.\n",
      "\u001b[4A\u001b[J     total [#################################################.] 99.17%\n",
      "this epoch [#########################################.........] 83.33%\n",
      "     11900 iter, 19 epoch / 20 epochs\n",
      "    366.24 iters/sec. Estimated time to finish: 0:00:00.273047.\n",
      "\u001b[4A\u001b[J20          0.953351       0.9522                    \n",
      "\u001b[J     total [##################################################] 100.00%\n",
      "this epoch [..................................................]  0.00%\n",
      "     12000 iter, 20 epoch / 20 epochs\n",
      "    364.38 iters/sec. Estimated time to finish: 0:00:00.\n",
      "\u001b[4A\u001b[J"
     ]
    }
   ],
   "source": [
    "trainer.run()"
   ]
  },
  {
   "cell_type": "code",
   "execution_count": 14,
   "metadata": {},
   "outputs": [],
   "source": [
    "from chainercv.datasets.cub.cub_label_dataset import CUBLabelDataset"
   ]
  },
  {
   "cell_type": "code",
   "execution_count": 15,
   "metadata": {},
   "outputs": [
    {
     "name": "stdout",
     "output_type": "stream",
     "text": [
      "Downloading ...\n",
      "From: http://www.vision.caltech.edu/visipedia-data/CUB-200-2011/CUB_200_2011.tgz\n",
      "To: /home/wei/.chainer/dataset/_dl_cache/92ddffe2095c104aeae52e33f8eaf8a5\n",
      "  %   Total    Recv       Speed  Time left\n",
      "100 1097MiB 1097MiB   6788KiB/s    0:00:00Downloading ...\n",
      "From: http://www.vision.caltech.edu/visipedia-data/CUB-200-2011/segmentations.tgz\n",
      "To: /home/wei/.chainer/dataset/_dl_cache/c641dacd8933196befce49e4c9d05842\n",
      "  %   Total    Recv       Speed  Time left\n",
      "100   37MiB   37MiB   7004KiB/s    0:00:00"
     ]
    }
   ],
   "source": [
    "data = CUBLabelDataset(return_bb=True)"
   ]
  },
  {
   "cell_type": "code",
   "execution_count": null,
   "metadata": {},
   "outputs": [],
   "source": []
  }
 ],
 "metadata": {
  "kernelspec": {
   "display_name": "Python 3",
   "language": "python",
   "name": "python3"
  },
  "language_info": {
   "codemirror_mode": {
    "name": "ipython",
    "version": 3
   },
   "file_extension": ".py",
   "mimetype": "text/x-python",
   "name": "python",
   "nbconvert_exporter": "python",
   "pygments_lexer": "ipython3",
   "version": "3.5.4"
  }
 },
 "nbformat": 4,
 "nbformat_minor": 2
}
